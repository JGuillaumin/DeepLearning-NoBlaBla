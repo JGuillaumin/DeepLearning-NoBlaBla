{
 "cells": [
  {
   "cell_type": "markdown",
   "metadata": {},
   "source": [
    "## Structure d'un script simple "
   ]
  },
  {
   "cell_type": "markdown",
   "metadata": {},
   "source": [
    "-------------------------------\n",
    "-------------------------------\n",
    "- Charger les données\n",
    "- Traiter les données (augmentation ? réduction ?)\n",
    "- Gérer les labels (one-hot encoding)\n",
    "- Découpage train/test\n",
    "-------------------------------\n",
    "-------------------------------\n",
    "- Construire le modèle \n",
    "- Choisir la fonction de coût, des métriques, un algorithme d'optimisation \n",
    "- Compiler le modèle \n",
    "- Configurer l'entrainement (`batch_size`, `nb_epoch`, ...)\n",
    "- Lancer l'entraînement \n",
    "-------------------------------\n",
    "-------------------------------\n",
    "- Lancer l'inférence sur les nouvelles données à labeliser \n",
    "- Générer le fichier .csv de résultats à envoyer sur Kaggle \n",
    "-------------------------------\n",
    "-------------------------------"
   ]
  },
  {
   "cell_type": "markdown",
   "metadata": {},
   "source": [
    "## Construire un modèle avec Keras\n",
    "\n",
    "2 API\n",
    "- **Sequential**\n",
    "    - Ajouter les couches, 1 entrée et 1 sortie \n",
    "- **Functional**\n",
    "    - Plusieurs entrées et sorties ! "
   ]
  },
  {
   "cell_type": "code",
   "execution_count": 4,
   "metadata": {
    "collapsed": false
   },
   "outputs": [],
   "source": [
    "#On charle l'API voulue\n",
    "from keras.models import Sequential\n",
    "\n",
    "#Les couches \n",
    "from keras.layers import Dense, Activation\n",
    "\n",
    "#Les algorithmes d'optimisation\n",
    "from keras.optimizers import SGD"
   ]
  },
  {
   "cell_type": "code",
   "execution_count": 2,
   "metadata": {
    "collapsed": false
   },
   "outputs": [],
   "source": [
    "# On peut ensuite construire le modèle \n",
    "# En ajoutant les couches dans 'model'\n",
    "\n",
    "model = Sequential()\n",
    "\n",
    "# Dans la première couche, il faut toujours spécifier la dimension d'entrée ! Ici un vecteur de taille 784\n",
    "model.add(Dense(32, input_dim=784))\n",
    "model.add(Activation('relu'))\n",
    "\n",
    "# ... "
   ]
  },
  {
   "cell_type": "code",
   "execution_count": 5,
   "metadata": {
    "collapsed": true
   },
   "outputs": [],
   "source": [
    "# On coisit un algorithme d'optimisation \n",
    "# Ici un SGD classique, avec un pas d'apprentissage constant \n",
    "sgd = SGD(lr=0.001)\n",
    "\n",
    "# On choisit \n",
    "# - une fonction de coût sur laquelle va s'effectuer la minimisation\n",
    "# - on peut aussi ajoute des métriques, qui sont calculées pour chaque batch et sur les données \n",
    "#   de validation à la fin d'un epoch, ici la précision \n",
    "model.compile(optimizer=sgd,\n",
    "              loss='categorical_crossentropy',\n",
    "              metrics=['accuracy'])"
   ]
  },
  {
   "cell_type": "code",
   "execution_count": null,
   "metadata": {
    "collapsed": true
   },
   "outputs": [],
   "source": [
    "# On lanc ensuite l'entrainement ! \n",
    "# On indique les données d'entrainement (X_train et y_train)\n",
    "# les paramètres batch_size et nb_epoch\n",
    "# les données validations \n",
    "\n",
    "# y_train et y_val doivent être les labels encodés selon 'one-hot encoding'. \n",
    "\n",
    "history = model.fit(X_train, y_train\n",
    "                    batch_size = 128,\n",
    "                    nb_epoch = 10,\n",
    "                    verbose=1,\n",
    "                    validation_data=(X_val, y_val))\n",
    "\n",
    "# model.fit() retourne un objet History qui contient les informations et scores calculés lors de l'entraînement. \n",
    "# avec verbose=1, pas besoin de fouiller dans history pour l'instant. "
   ]
  },
  {
   "cell_type": "code",
   "execution_count": null,
   "metadata": {
    "collapsed": true
   },
   "outputs": [],
   "source": [
    "# On applique ensuite notre model à de nouvelles données \n",
    "# On récupère une liste de vecteurs (un pour chaque exemple) qui correspondent aux probabilités d'appartenance à chaque classe. \n",
    "predictions = model.predict(X_test, batch_size = 128, verbose=1)"
   ]
  },
  {
   "cell_type": "code",
   "execution_count": null,
   "metadata": {
    "collapsed": true
   },
   "outputs": [],
   "source": [
    "# Pour récupérer l'id de la classe qui l'emporte pour chaque exemple \n",
    "pred = predictions.argmax(axis=1)"
   ]
  }
 ],
 "metadata": {
  "kernelspec": {
   "display_name": "Python 2",
   "language": "python",
   "name": "python2"
  },
  "language_info": {
   "codemirror_mode": {
    "name": "ipython",
    "version": 2
   },
   "file_extension": ".py",
   "mimetype": "text/x-python",
   "name": "python",
   "nbconvert_exporter": "python",
   "pygments_lexer": "ipython2",
   "version": "2.7.6"
  }
 },
 "nbformat": 4,
 "nbformat_minor": 2
}
