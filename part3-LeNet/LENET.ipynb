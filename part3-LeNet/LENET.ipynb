{
 "cells": [
  {
   "cell_type": "code",
   "execution_count": null,
   "metadata": {
    "collapsed": false
   },
   "outputs": [],
   "source": [
    "from IPython.core.display import display, HTML\n",
    "display(HTML(\"<style>.container { width:90% !important; }</style>\"))\n",
    "\n",
    "from IPython.display import Image"
   ]
  },
  {
   "cell_type": "markdown",
   "metadata": {},
   "source": [
    "# Les données : CIFAR-10"
   ]
  },
  {
   "cell_type": "code",
   "execution_count": null,
   "metadata": {
    "collapsed": true
   },
   "outputs": [],
   "source": [
    "# encodage utilisé pour les labels\n",
    "labels_dict = {0:'airplane',\n",
    "               1:'automobile', \n",
    "               2:'bird',\n",
    "               3:'cat',\n",
    "               4:'deer',\n",
    "               5:'dog',\n",
    "               6:'frog',\n",
    "               7:'horse',\n",
    "               8:'ship', \n",
    "               9:'truck'}"
   ]
  },
  {
   "cell_type": "code",
   "execution_count": null,
   "metadata": {
    "collapsed": false
   },
   "outputs": [],
   "source": [
    "import numpy as np\n",
    "\n",
    "import matplotlib.pyplot as plt\n",
    "from matplotlib import cm\n",
    "\n",
    "%matplotlib inline"
   ]
  },
  {
   "cell_type": "code",
   "execution_count": null,
   "metadata": {
    "collapsed": true
   },
   "outputs": [],
   "source": [
    "X_train = np.load('../data/CIFAR-10/X_train.npy')\n",
    "X_test = np.load('../data/CIFAR-10/X_test.npy')\n",
    "\n",
    "y_train = np.load('../data/CIFAR-10/y_train.npy')\n",
    "y_test = np.load('../data/CIFAR-10/y_test.npy')"
   ]
  },
  {
   "cell_type": "code",
   "execution_count": null,
   "metadata": {
    "collapsed": false
   },
   "outputs": [],
   "source": [
    "print(\"X_train shape : {}\".format(X_train.shape))\n",
    "print(\"X_test shape : {}\".format(X_test.shape))\n",
    "print(\"y_train shape : {}\".format(y_train.shape))\n",
    "print(\"y_test shape : {}\".format(y_test.shape))"
   ]
  },
  {
   "cell_type": "code",
   "execution_count": null,
   "metadata": {
    "collapsed": false
   },
   "outputs": [],
   "source": [
    "ind = 88\n",
    "\n",
    "plt.imshow(X_train[ind])\n",
    "print(y_train[ind])"
   ]
  },
  {
   "cell_type": "code",
   "execution_count": null,
   "metadata": {
    "collapsed": false
   },
   "outputs": [],
   "source": [
    "#J'ai oublié de faire ces étapes de pre-processing !\n",
    "X_train = X_train.astype('float32')\n",
    "X_test = X_test.astype('float32')\n",
    "X_train /= 255\n",
    "X_test /= 255"
   ]
  },
  {
   "cell_type": "markdown",
   "metadata": {},
   "source": [
    "# Modèle: LeNet-5  (1990)"
   ]
  },
  {
   "cell_type": "code",
   "execution_count": null,
   "metadata": {
    "collapsed": false
   },
   "outputs": [],
   "source": [
    "Image(filename='../ressources/CNN.png') "
   ]
  },
  {
   "cell_type": "markdown",
   "metadata": {},
   "source": [
    "# La caisse à outils : "
   ]
  },
  {
   "cell_type": "code",
   "execution_count": null,
   "metadata": {
    "collapsed": false
   },
   "outputs": [],
   "source": [
    "# Point de départ\n",
    "from keras.models import Sequential\n",
    "\n",
    "# Couches nécessaires\n",
    "from keras.layers import Dense, Activation, Dropout, Flatten\n",
    "from keras.layers import Convolution2D, MaxPooling2D, AveragePooling2D\n",
    "\n",
    "# Régularisation ? \n",
    "from keras.regularizers import l2\n",
    "\n",
    "# Algorithme d'optimisation \n",
    "from keras.optimizers import SGD\n",
    "\n",
    "# Pour le one-hot encoding\n",
    "from keras.utils.np_utils import to_categorical\n",
    "\n",
    "# Callbacks de Keras : outils avancés de gestion ou de contrôle ! \n",
    "from keras.callbacks import ModelCheckpoint, EarlyStopping, LearningRateScheduler"
   ]
  },
  {
   "cell_type": "markdown",
   "metadata": {},
   "source": [
    "# Construire le modèle\n",
    "\n",
    "\n",
    "### Convolution2D\n",
    "```python\n",
    "keras.layers.convolutional.Convolution2D(nb_filter, nb_row, nb_col,\n",
    "                                         init='glorot_uniform',\n",
    "                                         activation=None,\n",
    "                                         weights=None,\n",
    "                                         border_mode='valid',\n",
    "                                         subsample=(1, 1),\n",
    "                                         W_regularizer=None,\n",
    "                                         b_regularizer=None)\n",
    "```\n",
    "Arguments: \n",
    "\n",
    "- nb_filter: Number of convolution filters to use.\n",
    "- nb_row: Number of rows in the convolution kernel.\n",
    "- nb_col: Number of columns in the convolution kernel.\n",
    "- init: name of initialization function for the weights of the layer\n",
    "- activation: name of activation function to use (if None : Linear !)\n",
    "- weights: list of numpy arrays to set as initial weights.\n",
    "- border_mode: 'valid', 'same' or 'full'. ('full' requires the Theano backend.)\n",
    "- subsample: tuple of length 2. Factor by which to subsample output. Also called strides elsewhere.\n",
    "- W_regularizer: instance of WeightRegularizer (eg. L1 or L2 regularization), applied to the main weights matrix.\n",
    "- b_regularizer: instance of WeightRegularizer, applied to the bias.\n",
    "\n",
    "\n",
    "\n",
    "### MaxPooling2D\n",
    "\n",
    "```python\n",
    "\n",
    "keras.layers.pooling.MaxPooling2D(pool_size=(2, 2), strides=None, border_mode='valid')\n",
    "\n",
    "```\n",
    "Arguments\n",
    "\n",
    "- pool_size: tuple of 2 integers, factors by which to downscale (vertical, horizontal). (2, 2) will halve the image in each dimension.\n",
    "- strides: tuple of 2 integers, or None. Strides values. If None, it will default to pool_size.\n",
    "- border_mode: 'valid' or 'same'.\n",
    "   \n"
   ]
  },
  {
   "cell_type": "code",
   "execution_count": null,
   "metadata": {
    "collapsed": false
   },
   "outputs": [],
   "source": [
    "model = Sequential()\n",
    "\n",
    "model.add(Convolution2D(..., ..., ...,input_shape=(32,32,3)))\n",
    "....\n"
   ]
  },
  {
   "cell_type": "code",
   "execution_count": null,
   "metadata": {
    "collapsed": false
   },
   "outputs": [],
   "source": [
    "model.summary()"
   ]
  },
  {
   "cell_type": "markdown",
   "metadata": {},
   "source": [
    "# Compilation"
   ]
  },
  {
   "cell_type": "code",
   "execution_count": null,
   "metadata": {
    "collapsed": true
   },
   "outputs": [],
   "source": [
    "sgd = ...\n",
    "\n",
    "model.compile(...)"
   ]
  },
  {
   "cell_type": "markdown",
   "metadata": {},
   "source": [
    "## Callbacks"
   ]
  },
  {
   "cell_type": "markdown",
   "metadata": {},
   "source": [
    "#### Learning rate decay \n",
    "\n",
    "Diminuer le pas d'apprentissage pendant l'entraînement !\n",
    "\n",
    "$$ lr(e) = lr_{init}*0.5^{\\lfloor \\frac{e+1}{drop} \\rfloor} $$"
   ]
  },
  {
   "cell_type": "code",
   "execution_count": null,
   "metadata": {
    "collapsed": true
   },
   "outputs": [],
   "source": [
    "import math\n",
    "\n",
    "# Exemple de fonction\n",
    "def step_decay(epoch):\n",
    "    initial_lrate = 0.1\n",
    "    drop = 0.5\n",
    "    epochs_drop = 3.0\n",
    "    lrate = initial_lrate * math.pow(drop, math.floor((1+epoch)/epochs_drop))\n",
    "    return lrate\n",
    "\n",
    "# Il faut donner une fonction qui prend en entrée l'epoch \n",
    "# et retourne le learning rate voulu !\n",
    "lrate = LearningRateScheduler(step_decay)\n",
    "\n",
    "# D'autres idées ? \n",
    "def my_step_decay(epoch):\n",
    "    ...."
   ]
  },
  {
   "cell_type": "code",
   "execution_count": null,
   "metadata": {
    "collapsed": false,
    "scrolled": true
   },
   "outputs": [],
   "source": [
    "batch_size = ...\n",
    "nb_epoch = ...\n",
    "\n",
    "history = model.fit(...)"
   ]
  },
  {
   "cell_type": "code",
   "execution_count": null,
   "metadata": {
    "collapsed": true
   },
   "outputs": [],
   "source": [
    "plt.plot(history.history['val_acc'])\n",
    "plt.ylabel('Accuracy %')\n",
    "plt.xlabel('Training iterations')\n",
    "plt.legend(['Testing'], loc='upper left')\n",
    "plt.show()"
   ]
  },
  {
   "cell_type": "markdown",
   "metadata": {},
   "source": [
    "# Inférence"
   ]
  },
  {
   "cell_type": "code",
   "execution_count": null,
   "metadata": {
    "collapsed": false
   },
   "outputs": [],
   "source": [
    "predictions = model.predict_classes(X_test[:250],batch_size=128,verbose=1)"
   ]
  },
  {
   "cell_type": "code",
   "execution_count": null,
   "metadata": {
    "collapsed": false
   },
   "outputs": [],
   "source": [
    "# Afficher quelques exemples \n",
    "for i in range(9):\n",
    "    plt.subplot(331+i)\n",
    "    plt.imshow(X_test[i])\n",
    "plt.show()\n",
    "print([labels_dict[pred] for pred in predictions[:9]])"
   ]
  }
 ],
 "metadata": {
  "anaconda-cloud": {},
  "kernelspec": {
   "display_name": "Python [conda env:carnd-term1]",
   "language": "python",
   "name": "conda-env-carnd-term1-py"
  },
  "language_info": {
   "codemirror_mode": {
    "name": "ipython",
    "version": 3
   },
   "file_extension": ".py",
   "mimetype": "text/x-python",
   "name": "python",
   "nbconvert_exporter": "python",
   "pygments_lexer": "ipython3",
   "version": "3.5.2"
  }
 },
 "nbformat": 4,
 "nbformat_minor": 1
}
