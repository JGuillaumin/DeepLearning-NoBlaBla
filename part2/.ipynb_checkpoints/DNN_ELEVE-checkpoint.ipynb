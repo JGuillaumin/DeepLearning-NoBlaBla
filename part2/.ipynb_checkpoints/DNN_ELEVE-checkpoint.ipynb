{
 "cells": [
  {
   "cell_type": "code",
   "execution_count": null,
   "metadata": {
    "collapsed": true
   },
   "outputs": [],
   "source": [
    "from IPython.display import Image\n",
    "\n",
    "import matplotlib.pyplot as plt\n",
    "import numpy as np\n",
    "import cPickle as pickle\n",
    "\n",
    "%matplotlib inline"
   ]
  },
  {
   "cell_type": "code",
   "execution_count": null,
   "metadata": {
    "collapsed": false
   },
   "outputs": [],
   "source": [
    "Image(filename='../ressources/DNN.png') "
   ]
  },
  {
   "cell_type": "markdown",
   "metadata": {},
   "source": [
    "- modèle profond : plusieurs non-linéarités\n",
    "- données déjà préparées : liste de vecteurs de dimension 1024 (image noir et blanc) \n",
    "- découpage train/test déjà fait ! (voir script de préparation)\n",
    "\n",
    "### La caisse à outils : "
   ]
  },
  {
   "cell_type": "code",
   "execution_count": null,
   "metadata": {
    "collapsed": true
   },
   "outputs": [],
   "source": [
    "# Point de départ\n",
    "from keras.models import Sequential\n",
    "\n",
    "# Couches nécessaires\n",
    "from keras.layers import Dense, Activation\n",
    "\n",
    "# Régularisation ? \n",
    "from keras.regularizers import l2\n",
    "\n",
    "# Algorithme d'optimisation \n",
    "from keras.optimizers import SGD\n",
    "\n",
    "# Pour le one-hot encoding\n",
    "from keras.utils.np_utils import to_categorical\n",
    "\n",
    "# Callbacks de Keras : outils avancés de gestion ou de contrôle ! \n",
    "from keras.callbacks import ModelCheckpoint, EarlyStopping\n"
   ]
  },
  {
   "cell_type": "markdown",
   "metadata": {},
   "source": [
    "# Les données"
   ]
  },
  {
   "cell_type": "code",
   "execution_count": null,
   "metadata": {
    "collapsed": true
   },
   "outputs": [],
   "source": [
    "# encodage utilisé pour les labels\n",
    "labels_dict = {0:'airplane',\n",
    "               1:'automobile', \n",
    "               2:'bird',\n",
    "               3:'cat',\n",
    "               4:'deer',\n",
    "               5:'dog',\n",
    "               6:'frog',\n",
    "               7:'horse',\n",
    "               8:'ship', \n",
    "               9:'truck'}"
   ]
  },
  {
   "cell_type": "code",
   "execution_count": null,
   "metadata": {
    "collapsed": true
   },
   "outputs": [],
   "source": [
    "# Charger les données déjà préaprées\n",
    "data = '../data/train.pkl'\n",
    "X_train, X_test, y_train, y_test = pickle.load(open( data, \"rb\" ))"
   ]
  },
  {
   "cell_type": "markdown",
   "metadata": {},
   "source": [
    "# Construire le modèle "
   ]
  },
  {
   "cell_type": "markdown",
   "metadata": {},
   "source": [
    "** Astuce **:\n",
    "Ces deux codes sont équivalents : \n",
    "\n",
    "-------------------\n",
    "```python\n",
    "model.add(Dense(100))\n",
    "model.add(Activation('softmax'))\n",
    "```\n",
    "-----------------------\n",
    "```python\n",
    "model.add(Dense(100, activation='softmax'))\n",
    "```\n",
    "-----------------------\n",
    "\n",
    "\n",
    "Les fonctions d'activations disponibles sont : \n",
    "- softmax: \n",
    "- softplus\n",
    "- softsign\n",
    "- relu\n",
    "- tanh\n",
    "- sigmoid\n",
    "- hard_sigmoid\n",
    "- linear"
   ]
  },
  {
   "cell_type": "code",
   "execution_count": null,
   "metadata": {
    "collapsed": true
   },
   "outputs": [],
   "source": [
    "model = ..\n",
    "\n",
    "# 4 Couches cachées ? \n",
    "model.add(...)\n",
    "....\n"
   ]
  },
  {
   "cell_type": "code",
   "execution_count": null,
   "metadata": {
    "collapsed": false
   },
   "outputs": [],
   "source": [
    "model.summary()"
   ]
  },
  {
   "cell_type": "markdown",
   "metadata": {},
   "source": [
    "# Compiler le modèle"
   ]
  },
  {
   "cell_type": "code",
   "execution_count": null,
   "metadata": {
    "collapsed": true
   },
   "outputs": [],
   "source": [
    "sgd = ...\n",
    "\n",
    "model.compile(optimizer=...,\n",
    "              loss=...,\n",
    "              metrics=...)"
   ]
  },
  {
   "cell_type": "markdown",
   "metadata": {},
   "source": [
    "# Callbacks avec Keras "
   ]
  },
  {
   "cell_type": "markdown",
   "metadata": {},
   "source": [
    "### ModelCheckpoint\n",
    "\n",
    "Permet de sauvegarder le modèle après chaque 'epoch'\n",
    "\n",
    "Extrait de la documentation : \n",
    "\n",
    "----------------------------------------------\n",
    "Arguments\n",
    "\n",
    "- **filepath**: string, path to save the model file.\n",
    "- **monitor**: quantity to monitor.\n",
    "- **verbose**: verbosity mode, 0 or 1.\n",
    "- **save_best_only**: if save_best_only=True, the latest best model according to the quantity monitored will not be overwritten.\n",
    "- **mode**: one of {auto, min, max}. If save_best_only=True, the decision to overwrite the current save file is made based on either the maximization or the minimization of the monitored quantity. For val_acc, this should be max, for val_loss this should be min, etc. In auto mode, the direction is automatically inferred from the name of the monitored quantity.\n",
    "- **save_weights_only**: if True, then only the model's weights will be saved (model.save_weights(filepath)), else the full model is saved (model.save(filepath)).\n",
    "- **period**: Interval (number of epochs) between checkpoints.\n",
    "-----------------------------------------------\n",
    "\n"
   ]
  },
  {
   "cell_type": "markdown",
   "metadata": {},
   "source": [
    "####  EarlyStopping\n",
    "\n",
    "Permet d'arrêter l'entraînement quand la fonction de coût (par exemple) ne diminue plus. \n",
    "Extrait de la documenation : \n",
    "\n",
    "--------------------------------------\n",
    "Arguments\n",
    "\n",
    "- **monitor**: quantity to be monitored.\n",
    "- **min_delta**: minimum change in the monitored quantity to qualify as an improvement, i.e. an absolute change of less than min_delta, will count as no improvement.\n",
    "- **patience**: number of epochs with no improvement after which training will be stopped.\n",
    "- **verbose**: verbosity mode.\n",
    "- **mode**: one of {auto, min, max}. In min mode, training will stop when the quantity monitored has stopped decreasing; in max mode it will stop when the quantity monitored has stopped increasing; in auto mode, the direction is automatically inferred from the name of the monitored quantity.\n",
    "\n",
    "------------------------------------------"
   ]
  },
  {
   "cell_type": "code",
   "execution_count": null,
   "metadata": {
    "collapsed": true
   },
   "outputs": [],
   "source": [
    "checkpoint = ModelCheckpoint(...)\n",
    "earlyStop = EarlyStopping(...)"
   ]
  },
  {
   "cell_type": "code",
   "execution_count": null,
   "metadata": {
    "collapsed": false
   },
   "outputs": [],
   "source": [
    "batch_size = ...\n",
    "nb_epoch = ...\n",
    "\n",
    "model.fit(....,\n",
    "          callbacks=[])"
   ]
  },
  {
   "cell_type": "markdown",
   "metadata": {},
   "source": [
    "# Inférence"
   ]
  },
  {
   "cell_type": "code",
   "execution_count": null,
   "metadata": {
    "collapsed": true
   },
   "outputs": [],
   "source": []
  }
 ],
 "metadata": {
  "kernelspec": {
   "display_name": "Python 2",
   "language": "python",
   "name": "python2"
  },
  "language_info": {
   "codemirror_mode": {
    "name": "ipython",
    "version": 2
   },
   "file_extension": ".py",
   "mimetype": "text/x-python",
   "name": "python",
   "nbconvert_exporter": "python",
   "pygments_lexer": "ipython2",
   "version": "2.7.6"
  }
 },
 "nbformat": 4,
 "nbformat_minor": 2
}
